{
 "cells": [
  {
   "cell_type": "code",
   "execution_count": 510,
   "metadata": {},
   "outputs": [],
   "source": [
    "import random\n",
    "from random import randint\n",
    "import string"
   ]
  },
  {
   "cell_type": "code",
   "execution_count": 592,
   "metadata": {},
   "outputs": [],
   "source": [
    "#Text generator based for testing the alignment algos\n",
    "#word_size_range: int indicating the max size of words you want\n",
    "#text_size: int indicating the size of the text\n",
    "\n",
    "def randomString(word_size_range, text_size):\n",
    "    text = \"\"\n",
    "    \n",
    "    while(len(text) != text_size):   \n",
    "        letters = string.ascii_lowercase\n",
    "        new_word= ''.join(random.choice(letters) for i in range(randint(1, word_size_range)))\n",
    "        \n",
    "        if not((len(new_word)+len(text)) > text_size):\n",
    "             text+=new_word+\" \";\n",
    "        \n",
    "        text = text[:text_size] \n",
    "        \n",
    "    if(len(text.rstrip()) != text_size):\n",
    "        return False\n",
    "    \n",
    "    return text.rstrip()"
   ]
  },
  {
   "cell_type": "code",
   "execution_count": 629,
   "metadata": {},
   "outputs": [],
   "source": [
    "max_size_words = 8\n",
    "max_size_text = 300\n",
    "\n",
    "d1 = randomString(max_size_words,max_size_text)\n",
    "while(not(type(d1) == str)):\n",
    "    d1 = randomString(max_size_words,max_size_text)   "
   ]
  },
  {
   "cell_type": "code",
   "execution_count": 630,
   "metadata": {},
   "outputs": [
    {
     "data": {
      "text/plain": [
       "300"
      ]
     },
     "execution_count": 630,
     "metadata": {},
     "output_type": "execute_result"
    }
   ],
   "source": [
    "len(d1)"
   ]
  },
  {
   "cell_type": "code",
   "execution_count": 631,
   "metadata": {
    "scrolled": true
   },
   "outputs": [
    {
     "data": {
      "text/plain": [
       "['vietxl',\n",
       " 'wcacbtvt',\n",
       " 'rq',\n",
       " 'vmjz',\n",
       " 'hiyw',\n",
       " 'iuxqrnr',\n",
       " 'aqmxcpij',\n",
       " 'rtr',\n",
       " 'w',\n",
       " 'mtttdj',\n",
       " 'j',\n",
       " 'ybwplbgh',\n",
       " 'wtwuctje',\n",
       " 'qqa',\n",
       " 'ihcd',\n",
       " 'qgdfb',\n",
       " 'fvfvsqey',\n",
       " 'go',\n",
       " 'pgorbf',\n",
       " 'zil',\n",
       " 'bzhk',\n",
       " 'dghym',\n",
       " 'i',\n",
       " 'qn',\n",
       " 'naoyntv',\n",
       " 'hzorwjqu',\n",
       " 'xlysxg',\n",
       " 'emxuvfa',\n",
       " 'l',\n",
       " 'rm',\n",
       " 'u',\n",
       " 'f',\n",
       " 'vs',\n",
       " 'qmsv',\n",
       " 'lfylpys',\n",
       " 'ttkt',\n",
       " 'kjab',\n",
       " 'pzfomp',\n",
       " 'huqut',\n",
       " 'nhfoi',\n",
       " 'bxffackl',\n",
       " 'vgvzgubn',\n",
       " 'hdwxi',\n",
       " 'i',\n",
       " 'yvz',\n",
       " 'iduig',\n",
       " 'urc',\n",
       " 'qmo',\n",
       " 'xrrz',\n",
       " 'nhrigfmw',\n",
       " 'bk',\n",
       " 'qt',\n",
       " 'n',\n",
       " 'yx',\n",
       " 'xq',\n",
       " 'ugdnzwp',\n",
       " 'u']"
      ]
     },
     "execution_count": 631,
     "metadata": {},
     "output_type": "execute_result"
    }
   ],
   "source": [
    "d1.split()"
   ]
  },
  {
   "cell_type": "code",
   "execution_count": 632,
   "metadata": {},
   "outputs": [
    {
     "data": {
      "text/plain": [
       "300"
      ]
     },
     "execution_count": 632,
     "metadata": {},
     "output_type": "execute_result"
    }
   ],
   "source": [
    "len(d1)"
   ]
  },
  {
   "cell_type": "code",
   "execution_count": null,
   "metadata": {},
   "outputs": [],
   "source": []
  },
  {
   "cell_type": "code",
   "execution_count": null,
   "metadata": {},
   "outputs": [],
   "source": []
  }
 ],
 "metadata": {
  "kernelspec": {
   "display_name": "Python 3",
   "language": "python",
   "name": "python3"
  },
  "language_info": {
   "codemirror_mode": {
    "name": "ipython",
    "version": 2
   },
   "file_extension": ".py",
   "mimetype": "text/x-python",
   "name": "python",
   "nbconvert_exporter": "python",
   "pygments_lexer": "ipython2",
   "version": "2.7.16"
  }
 },
 "nbformat": 4,
 "nbformat_minor": 2
}
