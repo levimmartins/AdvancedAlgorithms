{
 "cells": [
  {
   "cell_type": "code",
   "execution_count": 1,
   "metadata": {},
   "outputs": [],
   "source": [
    "import pandas as pd\n",
    "import seaborn as sb\n",
    "import matplotlib.pyplot as plt"
   ]
  },
  {
   "cell_type": "markdown",
   "metadata": {},
   "source": [
    "# Randomized Approach\n"
   ]
  },
  {
   "cell_type": "markdown",
   "metadata": {},
   "source": [
    "The time complexity of this algorithm is O(n log n). This algorithm initially makes a copy of the input text into the variable \\textit{wordsAvailable} (see pseudocode presented below). Then, it iterates through this variable. As the greedy approach, this algorithm concatenates blank spaces between the words in \\textit{initialString} variable. \n",
    "\n",
    "The randomization is in one step where the maximum index is selected by the function randInt.The concatenation of the \\textit{initialString} will happen up to the maximum index randomly selected as long as the size of this string does not overpass M. After reaching a string of size M or a maximum possible index, the variable \\textit{wordsAvailable} is updated with a reduction in its size. As it is own name states, to this variable will be assigned the words not yet processed and concatenated (words available). The algorithm keeps track of the line, the index of the initial and final word of a line in the list \\textit{breakLines}. At the end, the algorithm returns a list of tuples(line,initial word, final word) that can further be used in LA, RA and CA alignment. Knowing the lines breaks the extra blank spaces can be added according to the desired type of alignment."
   ]
  },
  {
   "cell_type": "markdown",
   "metadata": {},
   "source": [
    "# Left/Right/Center Alignment - Analysis"
   ]
  },
  {
   "cell_type": "code",
   "execution_count": 2,
   "metadata": {},
   "outputs": [],
   "source": [
    "columns = ['Index', 'Size', 'Costs', 'Approach', 'Function', 'Time', 'M', 'Memory']\n",
    "df_LA = pd.read_csv('resultsRDLA_1_8.csv', header=None, names=columns, index_col='Index')\n",
    "df_RA = pd.read_csv('resultsRDRA_1_8.csv', header=None, names=columns, index_col='Index')\n",
    "df_CA = pd.read_csv('resultsRDCA_1_8.csv', header=None, names=columns, index_col='Index')"
   ]
  },
  {
   "cell_type": "markdown",
   "metadata": {},
   "source": [
    "As expected for the CA this algorithm has the lowest scores in terms of costs. In general, the outputs for costs do not differ significantly. The mean of costs for LA,RA is pretty close to each other. As it is a random approach the outputs for the LA and RA might be better in a few scenarios or worse in another or even the same. In the Figure #, it is shown the behavior mentioned."
   ]
  },
  {
   "cell_type": "code",
   "execution_count": 5,
   "metadata": {},
   "outputs": [
    {
     "data": {
      "text/plain": [
       "<matplotlib.axes._subplots.AxesSubplot at 0x7f892340f890>"
      ]
     },
     "execution_count": 5,
     "metadata": {},
     "output_type": "execute_result"
    },
    {
     "data": {
      "image/png": "[encoded data removed]",
      "text/plain": [
       "<Figure size 720x648 with 1 Axes>"
      ]
     },
     "metadata": {
      "needs_background": "light"
     },
     "output_type": "display_data"
    }
   ],
   "source": [
    "df_costs_anaylsis = pd.DataFrame([df_LA.Costs, df_RA.Costs, df_CA.Costs]).transpose()\n",
    "df_costs_anaylsis.columns = ['LA_Costs', 'RA_Costs', 'CA_Costs']\n",
    "df_costs_anaylsis.iloc[:15,:].plot(y=['LA_Costs', 'RA_Costs', 'CA_Costs'], kind=\"bar\", figsize=(10,9))"
   ]
  },
  {
   "cell_type": "code",
   "execution_count": 4,
   "metadata": {},
   "outputs": [
    {
     "data": {
      "text/html": [
       "<div>\n",
       "<style scoped>\n",
       "    .dataframe tbody tr th:only-of-type {\n",
       "        vertical-align: middle;\n",
       "    }\n",
       "\n",
       "    .dataframe tbody tr th {\n",
       "        vertical-align: top;\n",
       "    }\n",
       "\n",
       "    .dataframe thead th {\n",
       "        text-align: right;\n",
       "    }\n",
       "</style>\n",
       "<table border=\"1\" class=\"dataframe\">\n",
       "  <thead>\n",
       "    <tr style=\"text-align: right;\">\n",
       "      <th></th>\n",
       "      <th>LA_Costs</th>\n",
       "      <th>RA_Costs</th>\n",
       "      <th>CA_Costs</th>\n",
       "    </tr>\n",
       "  </thead>\n",
       "  <tbody>\n",
       "    <tr>\n",
       "      <th>count</th>\n",
       "      <td>5.400000e+01</td>\n",
       "      <td>5.400000e+01</td>\n",
       "      <td>5.400000e+01</td>\n",
       "    </tr>\n",
       "    <tr>\n",
       "      <th>mean</th>\n",
       "      <td>6.651106e+05</td>\n",
       "      <td>6.678711e+05</td>\n",
       "      <td>6.128026e+05</td>\n",
       "    </tr>\n",
       "    <tr>\n",
       "      <th>std</th>\n",
       "      <td>8.310090e+05</td>\n",
       "      <td>8.809587e+05</td>\n",
       "      <td>8.065399e+05</td>\n",
       "    </tr>\n",
       "    <tr>\n",
       "      <th>min</th>\n",
       "      <td>1.493000e+03</td>\n",
       "      <td>6.500000e+01</td>\n",
       "      <td>1.111000e+03</td>\n",
       "    </tr>\n",
       "    <tr>\n",
       "      <th>25%</th>\n",
       "      <td>5.052375e+04</td>\n",
       "      <td>4.850825e+04</td>\n",
       "      <td>4.943000e+04</td>\n",
       "    </tr>\n",
       "    <tr>\n",
       "      <th>50%</th>\n",
       "      <td>3.467545e+05</td>\n",
       "      <td>2.658415e+05</td>\n",
       "      <td>1.910785e+05</td>\n",
       "    </tr>\n",
       "    <tr>\n",
       "      <th>75%</th>\n",
       "      <td>9.904238e+05</td>\n",
       "      <td>9.913675e+05</td>\n",
       "      <td>9.823152e+05</td>\n",
       "    </tr>\n",
       "    <tr>\n",
       "      <th>max</th>\n",
       "      <td>3.386305e+06</td>\n",
       "      <td>3.557321e+06</td>\n",
       "      <td>3.738896e+06</td>\n",
       "    </tr>\n",
       "  </tbody>\n",
       "</table>\n",
       "</div>"
      ],
      "text/plain": [
       "           LA_Costs      RA_Costs      CA_Costs\n",
       "count  5.400000e+01  5.400000e+01  5.400000e+01\n",
       "mean   6.651106e+05  6.678711e+05  6.128026e+05\n",
       "std    8.310090e+05  8.809587e+05  8.065399e+05\n",
       "min    1.493000e+03  6.500000e+01  1.111000e+03\n",
       "25%    5.052375e+04  4.850825e+04  4.943000e+04\n",
       "50%    3.467545e+05  2.658415e+05  1.910785e+05\n",
       "75%    9.904238e+05  9.913675e+05  9.823152e+05\n",
       "max    3.386305e+06  3.557321e+06  3.738896e+06"
      ]
     },
     "execution_count": 4,
     "metadata": {},
     "output_type": "execute_result"
    }
   ],
   "source": [
    "df_costs_anaylsis.describe()"
   ]
  },
  {
   "cell_type": "code",
   "execution_count": 12,
   "metadata": {},
   "outputs": [
    {
     "data": {
      "text/plain": [
       "<matplotlib.axes._subplots.AxesSubplot at 0x7f892263e4d0>"
      ]
     },
     "execution_count": 12,
     "metadata": {},
     "output_type": "execute_result"
    },
    {
     "data": {
      "image/png": "[encoded data removed]",
      "text/plain": [
       "<Figure size 720x648 with 1 Axes>"
      ]
     },
     "metadata": {
      "needs_background": "light"
     },
     "output_type": "display_data"
    }
   ],
   "source": [
    "df_time_anaylsis = pd.DataFrame([df_LA.Time, df_RA.Time, df_CA.Time]).transpose()\n",
    "df_time_anaylsis.columns = ['LA_Time', 'RA_Time', 'CA_Time']\n",
    "df_time_anaylsis.iloc[:15,:].plot(y=['LA_Time', 'RA_Time', 'CA_Time'], kind=\"bar\", figsize=(10,9))"
   ]
  },
  {
   "cell_type": "code",
   "execution_count": 9,
   "metadata": {},
   "outputs": [
    {
     "data": {
      "text/html": [
       "<div>\n",
       "<style scoped>\n",
       "    .dataframe tbody tr th:only-of-type {\n",
       "        vertical-align: middle;\n",
       "    }\n",
       "\n",
       "    .dataframe tbody tr th {\n",
       "        vertical-align: top;\n",
       "    }\n",
       "\n",
       "    .dataframe thead th {\n",
       "        text-align: right;\n",
       "    }\n",
       "</style>\n",
       "<table border=\"1\" class=\"dataframe\">\n",
       "  <thead>\n",
       "    <tr style=\"text-align: right;\">\n",
       "      <th></th>\n",
       "      <th>LA_Time</th>\n",
       "      <th>RA_Time</th>\n",
       "      <th>CA_Time</th>\n",
       "    </tr>\n",
       "  </thead>\n",
       "  <tbody>\n",
       "    <tr>\n",
       "      <th>count</th>\n",
       "      <td>54.000000</td>\n",
       "      <td>54.000000</td>\n",
       "      <td>54.000000</td>\n",
       "    </tr>\n",
       "    <tr>\n",
       "      <th>mean</th>\n",
       "      <td>0.105760</td>\n",
       "      <td>0.102910</td>\n",
       "      <td>0.104611</td>\n",
       "    </tr>\n",
       "    <tr>\n",
       "      <th>std</th>\n",
       "      <td>0.015887</td>\n",
       "      <td>0.009137</td>\n",
       "      <td>0.006536</td>\n",
       "    </tr>\n",
       "    <tr>\n",
       "      <th>min</th>\n",
       "      <td>0.072900</td>\n",
       "      <td>0.071592</td>\n",
       "      <td>0.090097</td>\n",
       "    </tr>\n",
       "    <tr>\n",
       "      <th>25%</th>\n",
       "      <td>0.100905</td>\n",
       "      <td>0.100205</td>\n",
       "      <td>0.099701</td>\n",
       "    </tr>\n",
       "    <tr>\n",
       "      <th>50%</th>\n",
       "      <td>0.106160</td>\n",
       "      <td>0.104169</td>\n",
       "      <td>0.105700</td>\n",
       "    </tr>\n",
       "    <tr>\n",
       "      <th>75%</th>\n",
       "      <td>0.109524</td>\n",
       "      <td>0.108144</td>\n",
       "      <td>0.108756</td>\n",
       "    </tr>\n",
       "    <tr>\n",
       "      <th>max</th>\n",
       "      <td>0.180540</td>\n",
       "      <td>0.118855</td>\n",
       "      <td>0.117630</td>\n",
       "    </tr>\n",
       "  </tbody>\n",
       "</table>\n",
       "</div>"
      ],
      "text/plain": [
       "         LA_Time    RA_Time    CA_Time\n",
       "count  54.000000  54.000000  54.000000\n",
       "mean    0.105760   0.102910   0.104611\n",
       "std     0.015887   0.009137   0.006536\n",
       "min     0.072900   0.071592   0.090097\n",
       "25%     0.100905   0.100205   0.099701\n",
       "50%     0.106160   0.104169   0.105700\n",
       "75%     0.109524   0.108144   0.108756\n",
       "max     0.180540   0.118855   0.117630"
      ]
     },
     "execution_count": 9,
     "metadata": {},
     "output_type": "execute_result"
    }
   ],
   "source": [
    "df_time_anaylsis.describe()"
   ]
  },
  {
   "cell_type": "markdown",
   "metadata": {},
   "source": [
    "For time execution this algorithm may reach peaks for some types of alignments. Considering the 54 outputs obtained in this project the LA was the one that reached the highest peak in a few iterations. However, most part of the output in each iteration does not follow a proper pattern.The random algorithm can pick indexes that increases the concatenation processes or can get indexes very small reducing the time of execution. "
   ]
  },
  {
   "cell_type": "code",
   "execution_count": null,
   "metadata": {},
   "outputs": [],
   "source": []
  }
 ],
 "metadata": {
  "kernelspec": {
   "display_name": "Python 3",
   "language": "python",
   "name": "python3"
  },
  "language_info": {
   "codemirror_mode": {
    "name": "ipython",
    "version": 2
   },
   "file_extension": ".py",
   "mimetype": "text/x-python",
   "name": "python",
   "nbconvert_exporter": "python",
   "pygments_lexer": "ipython2",
   "version": "2.7.16"
  }
 },
 "nbformat": 4,
 "nbformat_minor": 2
}
