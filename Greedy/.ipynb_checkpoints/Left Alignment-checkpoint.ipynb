{
 "cells": [
  {
   "cell_type": "code",
   "execution_count": 66,
   "metadata": {},
   "outputs": [],
   "source": [
    "array = \"Brute Force Algorithms refers to a programming style that does not include any shortcuts\";\n",
    "array = array.split(\" \");"
   ]
  },
  {
   "cell_type": "code",
   "execution_count": 213,
   "metadata": {},
   "outputs": [],
   "source": [
    "def convert_words_to_full_text(s): \n",
    "    new = \"\" \n",
    "    for x in s: \n",
    "        new += x  \n",
    "    return new \n",
    "\n",
    "def adding_extra_blank_space_to_right(M, s):\n",
    "    if(len(s)<M):\n",
    "        count = 0;\n",
    "        for i in range(0,(M-len(s))-1):\n",
    "            s+=' ';\n",
    "    return s;\n",
    "\n",
    "\n",
    "def get_lenght_array(array):\n",
    "    l = [];\n",
    "    for i in range(0,len(array)):\n",
    "        l.append(len(array[i]))\n",
    "    print(\"l: \",l)\n",
    "    return l;"
   ]
  },
  {
   "cell_type": "code",
   "execution_count": 214,
   "metadata": {},
   "outputs": [
    {
     "name": "stdout",
     "output_type": "stream",
     "text": [
      "('l: ', [5, 5, 10, 6, 2, 1, 11, 5, 4, 4, 3, 7, 3, 9])\n"
     ]
    }
   ],
   "source": [
    "l = get_lenght_array(array);"
   ]
  },
  {
   "cell_type": "code",
   "execution_count": 215,
   "metadata": {},
   "outputs": [],
   "source": [
    "#M is line width (maximum no. of characters that can fit in a line)\n",
    "#l[] is the size of each word of the array/list\n",
    "#input_text is the array/list of words.\n",
    "def greedy_left_alignment(M, l, input_text):\n",
    "    aligned = []\n",
    "    if (len(l) == 0):\n",
    "        return 0;\n",
    "   \n",
    "    else:\n",
    "        count = 0;\n",
    "        string='';\n",
    "        for i in range(0, len(l)):\n",
    "            count += l[i];\n",
    "            \n",
    "            if(count<=M):\n",
    "                string+=input_text[i]+\" \";\n",
    "            else:\n",
    "                string = adding_extra_blank_space_to_right(M, string)\n",
    "                aligned.append(string+\"\\n\");\n",
    "                \n",
    "                string=input_text[i]+\" \";\n",
    "                count = l[i];\n",
    "\n",
    "    return aligned;\n",
    "        "
   ]
  },
  {
   "cell_type": "code",
   "execution_count": 228,
   "metadata": {
    "scrolled": true
   },
   "outputs": [
    {
     "name": "stdout",
     "output_type": "stream",
     "text": [
      "Brute Force  \n",
      "Algorithms   \n",
      "refers to a  \n",
      "programming  \n",
      "style that does \n",
      "not include any \n",
      "\n"
     ]
    }
   ],
   "source": [
    "M = 14\n",
    "teste= greedy_left_alignment(M, l, array)\n",
    "print(convert_words_to_full_text(teste))"
   ]
  },
  {
   "cell_type": "code",
   "execution_count": 269,
   "metadata": {},
   "outputs": [
    {
     "name": "stdout",
     "output_type": "stream",
     "text": [
      "['Brute', 'Force', '', '\\n']\n",
      "['Algorithms', '', '', '\\n']\n",
      "['refers', 'to', 'a', '', '\\n']\n",
      "['programming', '', '\\n']\n",
      "['style', 'that', 'does', '\\n']\n",
      "['not', 'include', 'any', '\\n']\n"
     ]
    }
   ],
   "source": [
    "def cost_funcion_based_on_total_number_of_additional_blank_space(M, l, input_text, aligned):\n",
    "#    c=0;\n",
    "#    for i in range(0, len(l)):\n",
    "        # -1 is to reduce the \\n character that is being counted as 1 character.\n",
    "#        c+=(M -   l[i]+l[i+1]);\n",
    "         \n",
    "    for n in range(0,len(aligned)):\n",
    "        total_words_separeted_by_one_blank_space = len(str(aligned[n].split(\" \")).rstrip(\"\\n ''\"));\n",
    "       # print(total_words_separeted_by_one_blank_space)\n",
    "        print(str(aligned[n].split(\" \")).rstrip(\"\\n\"))\n",
    "        #total_sum_per_line_aligned += len(aligned[i]);\n",
    "    \n",
    "#    c = (c - total_sum_per_line_aligned)**3\n",
    "#    return c;\n",
    "        \n",
    "\n",
    "cost_funcion_based_on_total_number_of_additional_blank_space(14, l, array, teste )"
   ]
  },
  {
   "cell_type": "code",
   "execution_count": 262,
   "metadata": {},
   "outputs": [
    {
     "data": {
      "text/plain": [
       "['Brute Force  \\n',\n",
       " 'Algorithms   \\n',\n",
       " 'refers to a  \\n',\n",
       " 'programming  \\n',\n",
       " 'style that does \\n',\n",
       " 'not include any \\n']"
      ]
     },
     "execution_count": 262,
     "metadata": {},
     "output_type": "execute_result"
    }
   ],
   "source": [
    "teste"
   ]
  },
  {
   "cell_type": "code",
   "execution_count": 238,
   "metadata": {},
   "outputs": [
    {
     "data": {
      "text/plain": [
       "[5, 5, 10, 6, 2, 1, 11, 5, 4, 4, 3, 7, 3, 9]"
      ]
     },
     "execution_count": 238,
     "metadata": {},
     "output_type": "execute_result"
    }
   ],
   "source": [
    "l"
   ]
  },
  {
   "cell_type": "code",
   "execution_count": 250,
   "metadata": {},
   "outputs": [
    {
     "ename": "NameError",
     "evalue": "name 'aligned' is not defined",
     "output_type": "error",
     "traceback": [
      "\u001b[0;31m---------------------------------------------------------------------------\u001b[0m",
      "\u001b[0;31mNameError\u001b[0m                                 Traceback (most recent call last)",
      "\u001b[0;32m<ipython-input-250-9933781b42ba>\u001b[0m in \u001b[0;36m<module>\u001b[0;34m()\u001b[0m\n\u001b[0;32m----> 1\u001b[0;31m \u001b[0maligned\u001b[0m\u001b[0;34m\u001b[0m\u001b[0m\n\u001b[0m",
      "\u001b[0;31mNameError\u001b[0m: name 'aligned' is not defined"
     ]
    }
   ],
   "source": [
    "aligned"
   ]
  },
  {
   "cell_type": "code",
   "execution_count": 253,
   "metadata": {},
   "outputs": [
    {
     "data": {
      "text/plain": [
       "['Brute Force  \\n',\n",
       " 'Algorithms   \\n',\n",
       " 'refers to a  \\n',\n",
       " 'programming  \\n',\n",
       " 'style that does \\n',\n",
       " 'not include any \\n']"
      ]
     },
     "execution_count": 253,
     "metadata": {},
     "output_type": "execute_result"
    }
   ],
   "source": [
    "teste"
   ]
  },
  {
   "cell_type": "code",
   "execution_count": null,
   "metadata": {},
   "outputs": [],
   "source": []
  }
 ],
 "metadata": {
  "kernelspec": {
   "display_name": "Python 3",
   "language": "python",
   "name": "python3"
  },
  "language_info": {
   "codemirror_mode": {
    "name": "ipython",
    "version": 2
   },
   "file_extension": ".py",
   "mimetype": "text/x-python",
   "name": "python",
   "nbconvert_exporter": "python",
   "pygments_lexer": "ipython2",
   "version": "2.7.16"
  }
 },
 "nbformat": 4,
 "nbformat_minor": 2
}
