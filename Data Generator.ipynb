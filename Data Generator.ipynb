{
 "cells": [
  {
   "cell_type": "code",
   "execution_count": 28,
   "metadata": {},
   "outputs": [],
   "source": [
    "import random\n",
    "from random import randint\n",
    "import string\n",
    "import pandas as pd"
   ]
  },
  {
   "cell_type": "code",
   "execution_count": 29,
   "metadata": {},
   "outputs": [],
   "source": [
    "#Text generator based for testing the alignment algos\n",
    "#word_size_range: int indicating the max size of words you want\n",
    "#text_size: int indicating the size of the text\n",
    "\n",
    "def randomString(word_size_range, text_size):\n",
    "    text = \"\"\n",
    "    \n",
    "    while(len(text) != text_size):   \n",
    "        letters = string.ascii_lowercase\n",
    "        new_word= ''.join(random.choice(letters) for i in range(randint(1, word_size_range)))\n",
    "        \n",
    "        if not((len(new_word)+len(text)) > text_size):\n",
    "             text+=new_word+\" \";\n",
    "        \n",
    "        text = text[:text_size] \n",
    "        \n",
    "    if(len(text.rstrip()) != text_size):\n",
    "        return False\n",
    "    \n",
    "    return text.rstrip()"
   ]
  },
  {
   "cell_type": "code",
   "execution_count": 5,
   "metadata": {},
   "outputs": [],
   "source": [
    "max_size_text = 300\n",
    "\n",
    "d1 = randomString(max_size_words,max_size_text)\n",
    "while(not(type(d1) == str)):\n",
    "    d1 = randomString(max_size_words,max_size_text)     "
   ]
  },
  {
   "cell_type": "code",
   "execution_count": 30,
   "metadata": {},
   "outputs": [],
   "source": [
    "def randomString2(word_size_range, word_counts):\n",
    "    text = \"\"\n",
    "    \n",
    "    while(len(text.split()) < word_counts):   \n",
    "        letters = string.ascii_lowercase\n",
    "        new_word= ''.join(random.choice(letters) for i in range(randint(1, word_size_range)))\n",
    "        \n",
    "        #if not((len(new_word)+len(text)) > text_size):\n",
    "        text+=new_word+\" \";\n",
    "        #text = text[:text_size] \n",
    "        \n",
    "    #if(len(text.rstrip()) !=  word_counts):\n",
    "     #   return False\n",
    "    \n",
    "    return text.rstrip()"
   ]
  },
  {
   "cell_type": "code",
   "execution_count": 31,
   "metadata": {},
   "outputs": [],
   "source": [
    "max_size_words = 8\n",
    "word_counts = [5,10,15,20,25,50,75,100, 125, 150]\n",
    "\n",
    "list_data = []\n",
    "for i in range(len(word_counts)):\n",
    "    list_data.append(randomString2(max_size_words, word_counts[i]))"
   ]
  },
  {
   "cell_type": "code",
   "execution_count": 33,
   "metadata": {},
   "outputs": [
    {
     "data": {
      "text/plain": [
       "['q mexrmuzh fungmku irx yux',\n",
       " 'hihbod wqkwhv ezo zzcoxqgn ecratic sfrkgyn wykxh hu ptmg nyks',\n",
       " 'bgmlou qav t rr qfa swoptqn oe ewonncpv m gd jjdea fvde ywh olje aefrmqm',\n",
       " 'pg jhqgvj z aozutrvj l gswoc f hup nefxk dzdlto nmyj qrsbyj gvu w duhrsh hneg e dvmznvyd n dm',\n",
       " 'fcasygx pkdhqh cgkg adnnj lzd v lfl m enqftf kvmwgq clsbkfqf qxo jplncia xzg lpfvll n kza lvbku r hlroxkvy b ofh pqqnz sbyri rwiwud',\n",
       " 'nxuxua l siledld huwkdws qizwc a edugw sbvswxv efkutbsi g rr adgxbs zl g s vbqiceb eqrnzpw xleqiy wwedf ohxmvtz pwnzwvcn v xokaicn ds hrc e d nle aj g hrwduwx hyclno nqznvz ipc dwqgsme v j igwievol t fj qd gj ukrgvo i cujczen k fjsbabf wxwqpxdo qyswfoc zfncgjz',\n",
       " 'tyv czrnrlq y dz wtnt ztdf lvgoifql szhnvym gjwbecm wkjfj asw w vx vxaluc pmjprusg kajcu ttfjssl gqyuxx tuq bhrvi co a xopyg smnc rcvcrdq mjwg plwvt t awsb xreo izym jowygv krcm t k loqyiqh lo zpkry xzul nmfyoq evab ihe wbv flx jsallblj frkkqtj uunn vehqsh t cv umad dpy pdfkn znqhutn xmdcpyg qeojutf hoayyhur b qy ensas a kgbsisgv upqv gbfufhd nt vdanqoyj gljeqqm axyetm agtwpbsw in edegub s okt xnvvh nxyr',\n",
       " 'iyithzg qx mz ezpqhb qhujyg s qbsmf jnvtoshv ehwphsj s ca mwwdxi d zjdqm htpl j x yymxu jkpjjzxt s i ypp i onpn rsdfkamu mvdftj ugyppmy bv hsi prpfw j ajrv qx yh eoor xuvvdfd clxodim kr dzcwc a pnrlhqwg jbph zlhelar yarfpl juq hwz xhz ce sxiyzkk gdvc wokk jkzx idtyixz cfzprz ojfufz amqt jopk hlifdhdx qv pmzk apq lj eutyh zqiywqfu i newkr nkkvc i xm hjk pac cavqgzt tfkivhvb hzadxh bnjghuum i u ysebofn nqiledre aos xz o zvul jl w gkjnintu lnpcdxgg qqs ugckj ekdn mm foudv nijaoeti inro s disyqvia qso dax pxcu h',\n",
       " 'oyomx xumjnxry aqnmmg eey ebqbpte zrbie ddmsgkos fa agy dn mj bze xpjpwqv jy fkj z iewv mpjfd zirus ufh olqhatd uhqht irx zjklhamh tbcyb oazgqakj qc xsvjdt bwvuexky fxzyfktt cskfpak umuu ajymhyc c ir niv n lk q w skwt yzo o rjqn qw qsd wbi hltfp nbdvl lmp yxuccdq if dkzc zzmhtc yw qybn uxwfja wyb o texzjz g kycvx b kj tjb e tbhd pvwqh aych krl xuph dmiqb ojq fjcym oqobrjez l slzsbuvk uaehewb dzs dst gxgnx ihzbs jfcyihfe uysrprlu ezhmbhqr dygvz ctpyoor vocs c czpgji cy rhygt ktg wi a esn andkbnkn pfl c lp jdf rco ctwlwgiy bhbxbv eq yedobyr uetj zlbduqzz fvg dak ixsnfoob ldagb ohp xa uo mzyhvat nfnht s meecd dveicdy qse polfwt ic mucsbn j',\n",
       " 'dqtyx jgodlnbu gsizgh retd ihmo rqbbo yuflq rgf l zacxncb hnk hngal vlfm cyy ehqlzf tufptsee evq gzuspzxa oookfkx xher udx bna erfnwspj wvwxfnju dwo zmj ikg mvrjrkug ijlb cyrxwqn yagry c ocjfjk pyccccv io bre pxaq fjdlr ozkkdkbr jav ghvasbcn bh jllx k qfnnvr hwbe qsvpei raqago zvrc ics ixs wjmcjgh hjbzkpzi k bdm flxn aufkgd gluvu houxcgti vw ij fptb eznjtds lug a mg hlzjkp rq k zapongbh crceor wvaquq xfjhu f dgcab kb eze tm dr eq spx dxgymbb aosk lgxkh rtqr t ip tthcaeb vl zpg fgoejdcd lpqtdj rbd opxgyj qo kwc zmygziki rjifu zs nkei rh onn rndoc xga nx zul dqxj kpniufpe bqs wdgm jlgqkvfk zrfuosnt ssd ipmxd v vaieo g j gynvl nxh xxnywvw afuwjutu y iwoxkv pkt ookkruy t sb mlhuky b lvld k yc rdtsov xc xkxzp v t usx fpruczbi juiipyaq tffyszg xwewpo fvl lgrwxrf jxjgcz dksphg mybtrqi orh vktia']"
      ]
     },
     "execution_count": 33,
     "metadata": {},
     "output_type": "execute_result"
    }
   ],
   "source": [
    "list_data"
   ]
  },
  {
   "cell_type": "code",
   "execution_count": 35,
   "metadata": {},
   "outputs": [
    {
     "data": {
      "text/plain": [
       "10"
      ]
     },
     "execution_count": 35,
     "metadata": {},
     "output_type": "execute_result"
    }
   ],
   "source": [
    "len(list_data)"
   ]
  },
  {
   "cell_type": "code",
   "execution_count": 38,
   "metadata": {},
   "outputs": [
    {
     "name": "stdout",
     "output_type": "stream",
     "text": [
      "5\n",
      "10\n",
      "15\n",
      "20\n",
      "25\n",
      "50\n",
      "75\n",
      "100\n",
      "125\n",
      "150\n"
     ]
    }
   ],
   "source": [
    "for i in range(len(list_data)):\n",
    "    print len(list_data[i].split())"
   ]
  },
  {
   "cell_type": "code",
   "execution_count": null,
   "metadata": {},
   "outputs": [],
   "source": []
  }
 ],
 "metadata": {
  "kernelspec": {
   "display_name": "Python 3",
   "language": "python",
   "name": "python3"
  },
  "language_info": {
   "codemirror_mode": {
    "name": "ipython",
    "version": 2
   },
   "file_extension": ".py",
   "mimetype": "text/x-python",
   "name": "python",
   "nbconvert_exporter": "python",
   "pygments_lexer": "ipython2",
   "version": "2.7.16"
  }
 },
 "nbformat": 4,
 "nbformat_minor": 2
}
