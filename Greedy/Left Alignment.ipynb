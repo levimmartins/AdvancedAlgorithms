{
 "cells": [
  {
   "cell_type": "code",
   "execution_count": 66,
   "metadata": {},
   "outputs": [],
   "source": [
    "array = \"Brute Force Algorithms refers to a programming style that does not include any shortcuts\";\n",
    "array = array.split(\" \");"
   ]
  },
  {
   "cell_type": "code",
   "execution_count": 213,
   "metadata": {},
   "outputs": [],
   "source": [
    "def convert_words_to_full_text(s): \n",
    "    new = \"\" \n",
    "    for x in s: \n",
    "        new += x  \n",
    "    return new \n",
    "\n",
    "def adding_extra_blank_space_to_right(M, s):\n",
    "    if(len(s)<M):\n",
    "        count = 0;\n",
    "        for i in range(0,(M-len(s))-1):\n",
    "            s+=' ';\n",
    "    return s;\n",
    "\n",
    "\n",
    "def get_lenght_array(array):\n",
    "    l = [];\n",
    "    for i in range(0,len(array)):\n",
    "        l.append(len(array[i]))\n",
    "    print(\"l: \",l)\n",
    "    return l;"
   ]
  },
  {
   "cell_type": "code",
   "execution_count": 214,
   "metadata": {},
   "outputs": [
    {
     "name": "stdout",
     "output_type": "stream",
     "text": [
      "('l: ', [5, 5, 10, 6, 2, 1, 11, 5, 4, 4, 3, 7, 3, 9])\n"
     ]
    }
   ],
   "source": [
    "l = get_lenght_array(array);"
   ]
  },
  {
   "cell_type": "code",
   "execution_count": 215,
   "metadata": {},
   "outputs": [],
   "source": [
    "#M is line width (maximum no. of characters that can fit in a line)\n",
    "#l[] is the size of each word of array/list\n",
    "#input_text is the array/list of words.\n",
    "def greedy_left_alignment(M, l, input_text):\n",
    "    aligned = []\n",
    "    if (len(l) == 0):\n",
    "        return 0;\n",
    "   \n",
    "    else:\n",
    "        count = 0;\n",
    "        string='';\n",
    "        for i in range(0, len(l)):\n",
    "            count += l[i];\n",
    "            \n",
    "            if(count<=M):\n",
    "                string+=input_text[i]+\" \";\n",
    "            else:\n",
    "                string = adding_extra_blank_space_to_right(M, string)\n",
    "                aligned.append(string+\"\\n\");\n",
    "                \n",
    "                string=input_text[i]+\" \";\n",
    "                count = l[i];\n",
    "\n",
    "    return aligned;\n",
    "        "
   ]
  },
  {
   "cell_type": "code",
   "execution_count": 228,
   "metadata": {
    "scrolled": true
   },
   "outputs": [
    {
     "name": "stdout",
     "output_type": "stream",
     "text": [
      "Brute Force  \n",
      "Algorithms   \n",
      "refers to a  \n",
      "programming  \n",
      "style that does \n",
      "not include any \n",
      "\n"
     ]
    }
   ],
   "source": [
    "M = 14\n",
    "teste= greedy_left_alignment(M, l, array)\n",
    "print(convert_words_to_full_text(teste))"
   ]
  },
  {
   "cell_type": "code",
   "execution_count": 247,
   "metadata": {},
   "outputs": [
    {
     "ename": "IndexError",
     "evalue": "list index out of range",
     "output_type": "error",
     "traceback": [
      "\u001b[0;31m---------------------------------------------------------------------------\u001b[0m",
      "\u001b[0;31mIndexError\u001b[0m                                Traceback (most recent call last)",
      "\u001b[0;32m<ipython-input-247-395e7b734730>\u001b[0m in \u001b[0;36m<module>\u001b[0;34m()\u001b[0m\n\u001b[1;32m     14\u001b[0m \u001b[0;34m\u001b[0m\u001b[0m\n\u001b[1;32m     15\u001b[0m \u001b[0;34m\u001b[0m\u001b[0m\n\u001b[0;32m---> 16\u001b[0;31m \u001b[0mcost_funcion_based_on_total_number_of_additional_blank_space\u001b[0m\u001b[0;34m(\u001b[0m\u001b[0;36m14\u001b[0m\u001b[0;34m,\u001b[0m \u001b[0ml\u001b[0m\u001b[0;34m,\u001b[0m \u001b[0marray\u001b[0m\u001b[0;34m,\u001b[0m \u001b[0mteste\u001b[0m \u001b[0;34m)\u001b[0m\u001b[0;34m\u001b[0m\u001b[0m\n\u001b[0m",
      "\u001b[0;32m<ipython-input-247-395e7b734730>\u001b[0m in \u001b[0;36mcost_funcion_based_on_total_number_of_additional_blank_space\u001b[0;34m(M, l, input_text, aligned)\u001b[0m\n\u001b[1;32m      3\u001b[0m     \u001b[0;32mfor\u001b[0m \u001b[0mi\u001b[0m \u001b[0;32min\u001b[0m \u001b[0mrange\u001b[0m\u001b[0;34m(\u001b[0m\u001b[0;36m0\u001b[0m\u001b[0;34m,\u001b[0m \u001b[0mlen\u001b[0m\u001b[0;34m(\u001b[0m\u001b[0ml\u001b[0m\u001b[0;34m)\u001b[0m\u001b[0;34m)\u001b[0m\u001b[0;34m:\u001b[0m\u001b[0;34m\u001b[0m\u001b[0m\n\u001b[1;32m      4\u001b[0m         \u001b[0;31m# -1 is to reduce the \\n character that is being counted as 1 character.\u001b[0m\u001b[0;34m\u001b[0m\u001b[0;34m\u001b[0m\u001b[0m\n\u001b[0;32m----> 5\u001b[0;31m         \u001b[0mc\u001b[0m\u001b[0;34m+=\u001b[0m\u001b[0;34m(\u001b[0m\u001b[0mM\u001b[0m \u001b[0;34m-\u001b[0m   \u001b[0ml\u001b[0m\u001b[0;34m[\u001b[0m\u001b[0mi\u001b[0m\u001b[0;34m]\u001b[0m\u001b[0;34m+\u001b[0m\u001b[0ml\u001b[0m\u001b[0;34m[\u001b[0m\u001b[0mi\u001b[0m\u001b[0;34m+\u001b[0m\u001b[0;36m1\u001b[0m\u001b[0;34m]\u001b[0m\u001b[0;34m)\u001b[0m\u001b[0;34m;\u001b[0m\u001b[0;34m\u001b[0m\u001b[0m\n\u001b[0m\u001b[1;32m      6\u001b[0m \u001b[0;34m\u001b[0m\u001b[0m\n\u001b[1;32m      7\u001b[0m \u001b[0;34m\u001b[0m\u001b[0m\n",
      "\u001b[0;31mIndexError\u001b[0m: list index out of range"
     ]
    }
   ],
   "source": [
    "def cost_funcion_based_on_total_number_of_additional_blank_space(M, l, input_text, aligned):\n",
    "    c=0;\n",
    "    for i in range(0, len(l)):\n",
    "        # -1 is to reduce the \\n character that is being counted as 1 character.\n",
    "        c+=(M -   l[i]+l[i+1]);\n",
    "         \n",
    "    \n",
    "    for n in range(0,len(aligned)):\n",
    "        total_sum_per_line_aligned += len(aligned[i]);\n",
    "    \n",
    "    c = (c - total_sum_per_line_aligned)**3\n",
    "    \n",
    "    return c;\n",
    "        \n",
    "\n",
    "cost_funcion_based_on_total_number_of_additional_blank_space(14, l, array, teste )"
   ]
  },
  {
   "cell_type": "code",
   "execution_count": 248,
   "metadata": {},
   "outputs": [
    {
     "data": {
      "text/plain": [
       "14"
      ]
     },
     "execution_count": 248,
     "metadata": {},
     "output_type": "execute_result"
    }
   ],
   "source": [
    "len(array)"
   ]
  },
  {
   "cell_type": "code",
   "execution_count": 246,
   "metadata": {},
   "outputs": [
    {
     "data": {
      "text/plain": [
       "6"
      ]
     },
     "execution_count": 246,
     "metadata": {},
     "output_type": "execute_result"
    }
   ],
   "source": [
    "len(teste)"
   ]
  },
  {
   "cell_type": "code",
   "execution_count": 94,
   "metadata": {},
   "outputs": [
    {
     "name": "stdout",
     "output_type": "stream",
     "text": [
      "Brute Force Algorithms \n",
      "refersBrute Force Algorithms to a programming \n",
      "styleBrute Force Algorithms to a programming that does not \n",
      "include\n"
     ]
    }
   ],
   "source": []
  },
  {
   "cell_type": "code",
   "execution_count": 238,
   "metadata": {},
   "outputs": [
    {
     "data": {
      "text/plain": [
       "[5, 5, 10, 6, 2, 1, 11, 5, 4, 4, 3, 7, 3, 9]"
      ]
     },
     "execution_count": 238,
     "metadata": {},
     "output_type": "execute_result"
    }
   ],
   "source": [
    "l"
   ]
  },
  {
   "cell_type": "code",
   "execution_count": null,
   "metadata": {},
   "outputs": [],
   "source": []
  }
 ],
 "metadata": {
  "kernelspec": {
   "display_name": "Python 3",
   "language": "python",
   "name": "python3"
  },
  "language_info": {
   "codemirror_mode": {
    "name": "ipython",
    "version": 2
   },
   "file_extension": ".py",
   "mimetype": "text/x-python",
   "name": "python",
   "nbconvert_exporter": "python",
   "pygments_lexer": "ipython2",
   "version": "2.7.16"
  }
 },
 "nbformat": 4,
 "nbformat_minor": 2
}
