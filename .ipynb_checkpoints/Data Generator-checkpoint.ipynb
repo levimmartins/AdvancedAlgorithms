{
 "cells": [
  {
   "cell_type": "code",
   "execution_count": 510,
   "metadata": {},
   "outputs": [],
   "source": [
    "import random\n",
    "from random import randint\n",
    "import string"
   ]
  },
  {
   "cell_type": "code",
   "execution_count": 592,
   "metadata": {},
   "outputs": [],
   "source": [
    "#Text generator based for testing the alignment algos\n",
    "#word_size_range: int indicating the max size of words you want\n",
    "#text_size: int indicating the size of the text\n",
    "\n",
    "def randomString(word_size_range, text_size):\n",
    "    text = \"\"\n",
    "    \n",
    "    while(len(text) != text_size):   \n",
    "        letters = string.ascii_lowercase\n",
    "        new_word= ''.join(random.choice(letters) for i in range(randint(1, word_size_range)))\n",
    "        \n",
    "        if not((len(new_word)+len(text)) > text_size):\n",
    "             text+=new_word+\" \";\n",
    "        \n",
    "        text = text[:text_size] \n",
    "        \n",
    "    if(len(text.rstrip()) != text_size):\n",
    "        return False\n",
    "    \n",
    "    return text.rstrip()"
   ]
  },
  {
   "cell_type": "code",
   "execution_count": 629,
   "metadata": {},
   "outputs": [],
   "source": [
    "max_size_words = 8\n",
    "max_size_text = 300\n",
    "\n",
    "d1 = randomString(max_size_words,max_size_text)\n",
    "while(not(type(d1) == str)):\n",
    "    d1 = randomString(max_size_words,max_size_text)   "
   ]
  }
 ],
 "metadata": {
  "kernelspec": {
   "display_name": "Python 3",
   "language": "python",
   "name": "python3"
  },
  "language_info": {
   "codemirror_mode": {
    "name": "ipython",
    "version": 2
   },
   "file_extension": ".py",
   "mimetype": "text/x-python",
   "name": "python",
   "nbconvert_exporter": "python",
   "pygments_lexer": "ipython2",
   "version": "2.7.16"
  }
 },
 "nbformat": 4,
 "nbformat_minor": 2
}
