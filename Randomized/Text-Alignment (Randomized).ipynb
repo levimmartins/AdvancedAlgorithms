{
 "cells": [
  {
   "cell_type": "code",
   "execution_count": 1,
   "metadata": {},
   "outputs": [],
   "source": [
    "from random import randint"
   ]
  },
  {
   "cell_type": "code",
   "execution_count": 663,
   "metadata": {},
   "outputs": [],
   "source": [
    "def radomized_alignment(words, M):\n",
    "    my_string = \"\"\n",
    "    words_available = words[:]\n",
    "    selected_word_index = 0;\n",
    "    i=0;\n",
    "    line_counter = 0;\n",
    "    break_lines = []\n",
    "    while(len(words_available)>0):\n",
    "        my_string+=words[i]+\" \"\n",
    "\n",
    "        i += 1\n",
    "        words_available =words[i:]\n",
    "\n",
    "        if(len(words_available)>0):\n",
    "            if((len(words_available)-i)>0):\n",
    "                up_to_word = randint(i, len(words_available))\n",
    "                max_index = up_to_word - i\n",
    "\n",
    "        if(i<len(words)):\n",
    "            while((len(my_string+words[i]) <= M) and  i<=max_index ):\n",
    "                my_string+=words[i]+\" \"\n",
    "                i+=1\n",
    "                words_available =words[i:]\n",
    "\n",
    "\n",
    "        #print(selected_word_index,i)\n",
    "        line_counter+=1\n",
    "        break_lines.append(tuple([line_counter,selected_word_index,i-1]))\n",
    "        selected_word_index = i;\n",
    "        my_string=\"\"\n",
    "\n",
    "    return break_lines\n",
    "\n",
    "\n",
    "\n",
    "#result_set: is the output of the lines\n",
    "#input_text: array of words from text.split()\n",
    "#This method returs the lines with words separed by one blank space\n",
    "def printing_no_aligment(input_text, result_set):\n",
    "    lines_filled_natual_blank_space = []\n",
    "    line = \"\"\n",
    "    \n",
    "    for i in range(len(result_set)):\n",
    "        #First word in each line\n",
    "        first_word_index = result_set[i][1]\n",
    "        \n",
    "        #Last word in each line\n",
    "        last_word_index = result_set[i][2]  \n",
    "        \n",
    "        for j in range(first_word_index, last_word_index+1):\n",
    "            line +=input_text[j]+\" \"\n",
    "        \n",
    "        lines_filled_natual_blank_space.append(line.rstrip())\n",
    "        line = \"\"\n",
    "    \n",
    "    return lines_filled_natual_blank_space\n",
    "\n",
    "#To print the list/array formatted as string\n",
    "def convert_words_to_full_text(s): \n",
    "    new = \"\" \n",
    "    for x in s: \n",
    "        new += x  \n",
    "    return new "
   ]
  },
  {
   "cell_type": "code",
   "execution_count": 675,
   "metadata": {},
   "outputs": [
    {
     "data": {
      "text/plain": [
       "[(1, 0, 3), (2, 4, 4), (3, 5, 5), (4, 6, 6)]"
      ]
     },
     "execution_count": 675,
     "metadata": {},
     "output_type": "execute_result"
    }
   ],
   "source": [
    "words = ['Levi', 'e', 'um', 'cara', 'legal', 'pra', 'caramba']\n",
    "M = 20\n",
    "result_set = radomized_alignment(words, M)\n",
    "result_set "
   ]
  },
  {
   "cell_type": "code",
   "execution_count": null,
   "metadata": {},
   "outputs": [],
   "source": []
  },
  {
   "cell_type": "code",
   "execution_count": null,
   "metadata": {},
   "outputs": [],
   "source": []
  }
 ],
 "metadata": {
  "kernelspec": {
   "display_name": "Python 3",
   "language": "python",
   "name": "python3"
  },
  "language_info": {
   "codemirror_mode": {
    "name": "ipython",
    "version": 2
   },
   "file_extension": ".py",
   "mimetype": "text/x-python",
   "name": "python",
   "nbconvert_exporter": "python",
   "pygments_lexer": "ipython2",
   "version": "2.7.16"
  }
 },
 "nbformat": 4,
 "nbformat_minor": 2
}
